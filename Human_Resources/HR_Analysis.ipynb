{
 "cells": [
  {
   "cell_type": "code",
   "execution_count": 2,
   "id": "6bfbbba5",
   "metadata": {},
   "outputs": [],
   "source": [
    "import pandas as pd\n",
    "import numpy as np\n",
    "df = pd.read_csv('HR_data.csv')"
   ]
  },
  {
   "cell_type": "markdown",
   "id": "efb752b0",
   "metadata": {},
   "source": [
    "### 1. What is the total number of employees?"
   ]
  },
  {
   "cell_type": "code",
   "execution_count": 4,
   "id": "7368da94",
   "metadata": {},
   "outputs": [
    {
     "name": "stdout",
     "output_type": "stream",
     "text": [
      "Total Employees: 1470\n"
     ]
    }
   ],
   "source": [
    "total_employees = len(df)\n",
    "print(f\"Total Employees: {total_employees}\")"
   ]
  },
  {
   "cell_type": "markdown",
   "id": "0c7e9152",
   "metadata": {},
   "source": [
    "### 2. What is the average age of employees?"
   ]
  },
  {
   "cell_type": "code",
   "execution_count": 6,
   "id": "8f950389",
   "metadata": {},
   "outputs": [
    {
     "name": "stdout",
     "output_type": "stream",
     "text": [
      "Average Age: 36.92 years\n"
     ]
    }
   ],
   "source": [
    "avg_age = df['Age'].mean()\n",
    "print(f\"Average Age: {avg_age:.2f} years\")"
   ]
  },
  {
   "cell_type": "markdown",
   "id": "ce183ee6",
   "metadata": {},
   "source": [
    "### 3. What is the overall attrition rate?"
   ]
  },
  {
   "cell_type": "code",
   "execution_count": 8,
   "id": "ca091525",
   "metadata": {},
   "outputs": [
    {
     "name": "stdout",
     "output_type": "stream",
     "text": [
      "Attrition Count: 237\n",
      "Attrition Rate: 16.12%\n"
     ]
    }
   ],
   "source": [
    "attrition_count = df[df['Attrition'] == 'Yes'].shape[0]\n",
    "attrition_rate = (attrition_count / len(df)) * 100\n",
    "print(f\"Attrition Count: {attrition_count}\")\n",
    "print(f\"Attrition Rate: {attrition_rate:.2f}%\")"
   ]
  },
  {
   "cell_type": "markdown",
   "id": "55e221d4",
   "metadata": {},
   "source": [
    "### 4. Which job roles see the most attrition?"
   ]
  },
  {
   "cell_type": "code",
   "execution_count": 10,
   "id": "7d2f9c66",
   "metadata": {},
   "outputs": [
    {
     "name": "stdout",
     "output_type": "stream",
     "text": [
      "JobRole\n",
      "Laboratory Technician        62\n",
      "Sales Executive              57\n",
      "Research Scientist           47\n",
      "Sales Representative         33\n",
      "Human Resources              12\n",
      "Manufacturing Director       10\n",
      "Healthcare Representative     9\n",
      "Manager                       5\n",
      "Research Director             2\n",
      "Name: count, dtype: int64\n"
     ]
    }
   ],
   "source": [
    "attrition_by_job = df[df['Attrition'] == 'Yes']['JobRole'].value_counts()\n",
    "print(attrition_by_job)"
   ]
  },
  {
   "cell_type": "markdown",
   "id": "bd98c612",
   "metadata": {},
   "source": [
    "### 5. What is the attrition distribution by gender?"
   ]
  },
  {
   "cell_type": "code",
   "execution_count": 12,
   "id": "a91711c5",
   "metadata": {},
   "outputs": [
    {
     "name": "stdout",
     "output_type": "stream",
     "text": [
      "Gender\n",
      "Male      150\n",
      "Female     87\n",
      "Name: count, dtype: int64\n"
     ]
    }
   ],
   "source": [
    "attrition_by_gender = df[df['Attrition'] == 'Yes']['Gender'].value_counts()\n",
    "print(attrition_by_gender)"
   ]
  },
  {
   "cell_type": "markdown",
   "id": "e1654901",
   "metadata": {},
   "source": [
    "### 6. What education backgrounds are most affected by attrition?"
   ]
  },
  {
   "cell_type": "code",
   "execution_count": 14,
   "id": "98cefcb5",
   "metadata": {},
   "outputs": [
    {
     "name": "stdout",
     "output_type": "stream",
     "text": [
      "EducationField\n",
      "Life Sciences       37.55\n",
      "Medical             26.58\n",
      "Marketing           14.77\n",
      "Technical Degree    13.50\n",
      "Other                4.64\n",
      "Human Resources      2.95\n",
      "Name: proportion, dtype: float64\n"
     ]
    }
   ],
   "source": [
    "attrition_by_edu = df[df['Attrition'] == 'Yes']['EducationField'].value_counts(normalize=True) * 100\n",
    "print(attrition_by_edu.round(2))"
   ]
  },
  {
   "cell_type": "markdown",
   "id": "b18880d1",
   "metadata": {},
   "source": [
    "### 7. How does attrition vary by age group?"
   ]
  },
  {
   "cell_type": "code",
   "execution_count": 16,
   "id": "f21feb12",
   "metadata": {},
   "outputs": [
    {
     "name": "stdout",
     "output_type": "stream",
     "text": [
      "AgeGroup\n",
      "31-45    103\n",
      "18-30     96\n",
      "46-60     34\n",
      "Name: count, dtype: int64\n"
     ]
    }
   ],
   "source": [
    "bins = [18, 30, 45, 60]\n",
    "labels = ['18-30', '31-45', '46-60']\n",
    "df['AgeGroup'] = pd.cut(df['Age'], bins=bins, labels=labels, right=True)\n",
    "attrition_by_age_group = df[df['Attrition'] == 'Yes']['AgeGroup'].value_counts()\n",
    "print(attrition_by_age_group)"
   ]
  },
  {
   "cell_type": "markdown",
   "id": "46f5ce62",
   "metadata": {},
   "source": [
    "### 8. Does employee experience (years at company) affect attrition?"
   ]
  },
  {
   "cell_type": "code",
   "execution_count": 37,
   "id": "cfaef07c",
   "metadata": {},
   "outputs": [
    {
     "name": "stdout",
     "output_type": "stream",
     "text": [
      "YearsAtCompany\n",
      "0    16\n",
      "1    59\n",
      "2    27\n",
      "3    20\n",
      "4    19\n",
      "5    21\n",
      "Name: count, dtype: int64\n"
     ]
    }
   ],
   "source": [
    "attrition_by_years = df[df['Attrition'] == 'Yes']['YearsAtCompany'].value_counts().sort_index()\n",
    "print(attrition_by_years.head(6))"
   ]
  },
  {
   "cell_type": "markdown",
   "id": "e155c43c",
   "metadata": {},
   "source": [
    "### 9. Which salary brackets see the most attrition?"
   ]
  },
  {
   "cell_type": "code",
   "execution_count": 20,
   "id": "cdb55876",
   "metadata": {},
   "outputs": [
    {
     "name": "stdout",
     "output_type": "stream",
     "text": [
      "SalaryRange\n",
      "0-5k       163\n",
      "6k-10k      49\n",
      "11k-20k     25\n",
      "Name: count, dtype: int64\n"
     ]
    }
   ],
   "source": [
    "salary_bins = [0, 5000, 10000, 20000]\n",
    "salary_labels = ['0-5k', '6k-10k', '11k-20k']\n",
    "df['SalaryRange'] = pd.cut(df['MonthlyIncome'], bins=salary_bins, labels=salary_labels, right=True)\n",
    "attrition_by_salary = df[df['Attrition'] == 'Yes']['SalaryRange'].value_counts()\n",
    "print(attrition_by_salary)"
   ]
  },
  {
   "cell_type": "code",
   "execution_count": null,
   "id": "3c239d9e-bc17-4ca5-95c9-63fcdc4a1f6d",
   "metadata": {},
   "outputs": [],
   "source": []
  }
 ],
 "metadata": {
  "kernelspec": {
   "display_name": "Python 3 (ipykernel)",
   "language": "python",
   "name": "python3"
  },
  "language_info": {
   "codemirror_mode": {
    "name": "ipython",
    "version": 3
   },
   "file_extension": ".py",
   "mimetype": "text/x-python",
   "name": "python",
   "nbconvert_exporter": "python",
   "pygments_lexer": "ipython3",
   "version": "3.12.7"
  }
 },
 "nbformat": 4,
 "nbformat_minor": 5
}
