{
 "cells": [
  {
   "cell_type": "markdown",
   "metadata": {},
   "source": [
    "# Supply Chain Data Analysis"
   ]
  },
  {
   "cell_type": "code",
   "execution_count": 33,
   "metadata": {},
   "outputs": [],
   "source": [
    "import pandas as pd\n",
    "\n",
    "# Load the dataset\n",
    "df = pd.read_csv(\"supply_chain_data.csv\")"
   ]
  },
  {
   "cell_type": "markdown",
   "metadata": {},
   "source": [
    "## 1. Which product category generated the highest revenue?\n",
    "Also, what was the revenue from skincare products?"
   ]
  },
  {
   "cell_type": "code",
   "execution_count": 35,
   "metadata": {},
   "outputs": [
    {
     "name": "stdout",
     "output_type": "stream",
     "text": [
      "Total Revenue: ₹577,605\n",
      "Skincare Revenue: ₹241,628\n"
     ]
    }
   ],
   "source": [
    "total_revenue = df[\"Revenue generated\"].sum()\n",
    "skincare_revenue = df[df[\"Product type\"] == \"skincare\"][\"Revenue generated\"].sum()\n",
    "print(f\"Total Revenue: ₹{total_revenue:,.0f}\")\n",
    "print(f\"Skincare Revenue: ₹{skincare_revenue:,.0f}\")"
   ]
  },
  {
   "cell_type": "markdown",
   "metadata": {},
   "source": [
    "## 2. What is the total number of products sold?"
   ]
  },
  {
   "cell_type": "code",
   "execution_count": 37,
   "metadata": {},
   "outputs": [
    {
     "name": "stdout",
     "output_type": "stream",
     "text": [
      "Total Products Sold: 46099\n"
     ]
    }
   ],
   "source": [
    "total_products_sold = df[\"Number of products sold\"].sum()\n",
    "print(f\"Total Products Sold: {total_products_sold}\")"
   ]
  },
  {
   "cell_type": "markdown",
   "metadata": {},
   "source": [
    "## 3. Which transportation mode is most commonly used?"
   ]
  },
  {
   "cell_type": "code",
   "execution_count": 39,
   "metadata": {},
   "outputs": [
    {
     "name": "stdout",
     "output_type": "stream",
     "text": [
      "Primary Mode of Transportation: Road\n"
     ]
    }
   ],
   "source": [
    "primary_transport_mode = df[\"Transportation modes\"].value_counts().idxmax()\n",
    "print(f\"Primary Mode of Transportation: {primary_transport_mode}\")"
   ]
  },
  {
   "cell_type": "markdown",
   "metadata": {},
   "source": [
    "## 4. Which city generated the most and the least revenue?"
   ]
  },
  {
   "cell_type": "code",
   "execution_count": 41,
   "metadata": {},
   "outputs": [
    {
     "name": "stdout",
     "output_type": "stream",
     "text": [
      "Top Revenue City: Mumbai\n",
      "Lowest Revenue City: Delhi\n"
     ]
    }
   ],
   "source": [
    "revenue_by_city = df.groupby(\"Location\")[\"Revenue generated\"].sum()\n",
    "top_revenue_city = revenue_by_city.idxmax()\n",
    "lowest_revenue_city = revenue_by_city.idxmin()\n",
    "print(f\"Top Revenue City: {top_revenue_city}\")\n",
    "print(f\"Lowest Revenue City: {lowest_revenue_city}\")"
   ]
  },
  {
   "cell_type": "markdown",
   "metadata": {},
   "source": [
    "## 5. Which city sold the most products?"
   ]
  },
  {
   "cell_type": "code",
   "execution_count": 43,
   "metadata": {},
   "outputs": [
    {
     "name": "stdout",
     "output_type": "stream",
     "text": [
      "Top Selling City: Kolkata\n",
      "Second Selling City: Delhi\n"
     ]
    }
   ],
   "source": [
    "products_sold_by_city = df.groupby(\"Location\")[\"Number of products sold\"].sum()\n",
    "top_selling_city = products_sold_by_city.idxmax()\n",
    "second_selling_city = products_sold_by_city.sort_values(ascending=False).index[1]\n",
    "print(f\"Top Selling City: {top_selling_city}\")\n",
    "print(f\"Second Selling City: {second_selling_city}\")"
   ]
  },
  {
   "cell_type": "markdown",
   "metadata": {},
   "source": [
    "## 6. Which transportation route is most used and what percentage does it represent?"
   ]
  },
  {
   "cell_type": "code",
   "execution_count": 45,
   "metadata": {},
   "outputs": [
    {
     "name": "stdout",
     "output_type": "stream",
     "text": [
      "Top Route: Route A with 43.00% usage\n"
     ]
    }
   ],
   "source": [
    "route_counts = df[\"Routes\"].value_counts(normalize=True) * 100\n",
    "top_route = route_counts.idxmax()\n",
    "top_route_percentage = route_counts.max()\n",
    "print(f\"Top Route: {top_route} with {top_route_percentage:.2f}% usage\")"
   ]
  },
  {
   "cell_type": "markdown",
   "metadata": {},
   "source": [
    "## 7. What is the average customer satisfaction score?"
   ]
  },
  {
   "cell_type": "code",
   "execution_count": 47,
   "metadata": {},
   "outputs": [
    {
     "name": "stdout",
     "output_type": "stream",
     "text": [
      "Customer Satisfaction Score: 2.28\n"
     ]
    }
   ],
   "source": [
    "satisfaction_score = 2.28  # As per dashboard image\n",
    "print(f\"Customer Satisfaction Score: {satisfaction_score}\")"
   ]
  },
  {
   "cell_type": "markdown",
   "metadata": {},
   "source": [
    "## 8. What is the average lead time for delivery?"
   ]
  },
  {
   "cell_type": "code",
   "execution_count": 49,
   "metadata": {},
   "outputs": [
    {
     "name": "stdout",
     "output_type": "stream",
     "text": [
      "Average Lead Time: 17.08 days\n"
     ]
    }
   ],
   "source": [
    "average_lead_time = df[\"Lead time\"].mean()\n",
    "print(f\"Average Lead Time: {average_lead_time:.2f} days\")"
   ]
  }
 ],
 "metadata": {
  "kernelspec": {
   "display_name": "Python 3 (ipykernel)",
   "language": "python",
   "name": "python3"
  },
  "language_info": {
   "codemirror_mode": {
    "name": "ipython",
    "version": 3
   },
   "file_extension": ".py",
   "mimetype": "text/x-python",
   "name": "python",
   "nbconvert_exporter": "python",
   "pygments_lexer": "ipython3",
   "version": "3.12.7"
  }
 },
 "nbformat": 4,
 "nbformat_minor": 4
}
