{
 "cells": [
  {
   "cell_type": "markdown",
   "id": "19c9a656",
   "metadata": {},
   "source": [
    "# Finance Analysis Jupyter Notebook"
   ]
  },
  {
   "cell_type": "code",
   "execution_count": 42,
   "id": "8b1beb4e",
   "metadata": {},
   "outputs": [],
   "source": [
    "import pandas as pd\n",
    "\n",
    "# Load data\n",
    "df = pd.read_csv(\"financial_data.csv\")"
   ]
  },
  {
   "cell_type": "code",
   "execution_count": 43,
   "id": "4bda3b4d-57d0-425f-bd29-c61c04d53fc1",
   "metadata": {},
   "outputs": [
    {
     "data": {
      "text/html": [
       "<div>\n",
       "<style scoped>\n",
       "    .dataframe tbody tr th:only-of-type {\n",
       "        vertical-align: middle;\n",
       "    }\n",
       "\n",
       "    .dataframe tbody tr th {\n",
       "        vertical-align: top;\n",
       "    }\n",
       "\n",
       "    .dataframe thead th {\n",
       "        text-align: right;\n",
       "    }\n",
       "</style>\n",
       "<table border=\"1\" class=\"dataframe\">\n",
       "  <thead>\n",
       "    <tr style=\"text-align: right;\">\n",
       "      <th></th>\n",
       "      <th>Segment</th>\n",
       "      <th>Country</th>\n",
       "      <th>Product</th>\n",
       "      <th>Units Sold</th>\n",
       "      <th>Manufacturing Price</th>\n",
       "      <th>Sale Price</th>\n",
       "      <th>Gross Sales</th>\n",
       "      <th>Sales</th>\n",
       "      <th>COGS</th>\n",
       "      <th>Profit</th>\n",
       "      <th>Date</th>\n",
       "      <th>Month Number</th>\n",
       "      <th>Month Name</th>\n",
       "      <th>Year</th>\n",
       "    </tr>\n",
       "  </thead>\n",
       "  <tbody>\n",
       "    <tr>\n",
       "      <th>0</th>\n",
       "      <td>Government</td>\n",
       "      <td>Canada</td>\n",
       "      <td>Carretera</td>\n",
       "      <td>1618.5</td>\n",
       "      <td>3</td>\n",
       "      <td>20</td>\n",
       "      <td>32370.0</td>\n",
       "      <td>32370.0</td>\n",
       "      <td>16185.0</td>\n",
       "      <td>16185.0</td>\n",
       "      <td>01-01-2014</td>\n",
       "      <td>1</td>\n",
       "      <td>January</td>\n",
       "      <td>2014</td>\n",
       "    </tr>\n",
       "    <tr>\n",
       "      <th>1</th>\n",
       "      <td>Government</td>\n",
       "      <td>Germany</td>\n",
       "      <td>Carretera</td>\n",
       "      <td>1321.0</td>\n",
       "      <td>3</td>\n",
       "      <td>20</td>\n",
       "      <td>26420.0</td>\n",
       "      <td>26420.0</td>\n",
       "      <td>13210.0</td>\n",
       "      <td>13210.0</td>\n",
       "      <td>01-01-2014</td>\n",
       "      <td>1</td>\n",
       "      <td>January</td>\n",
       "      <td>2014</td>\n",
       "    </tr>\n",
       "    <tr>\n",
       "      <th>2</th>\n",
       "      <td>Midmarket</td>\n",
       "      <td>France</td>\n",
       "      <td>Carretera</td>\n",
       "      <td>2178.0</td>\n",
       "      <td>3</td>\n",
       "      <td>15</td>\n",
       "      <td>32670.0</td>\n",
       "      <td>32670.0</td>\n",
       "      <td>21780.0</td>\n",
       "      <td>10890.0</td>\n",
       "      <td>06-01-2014</td>\n",
       "      <td>6</td>\n",
       "      <td>June</td>\n",
       "      <td>2014</td>\n",
       "    </tr>\n",
       "    <tr>\n",
       "      <th>3</th>\n",
       "      <td>Midmarket</td>\n",
       "      <td>Germany</td>\n",
       "      <td>Carretera</td>\n",
       "      <td>888.0</td>\n",
       "      <td>3</td>\n",
       "      <td>15</td>\n",
       "      <td>13320.0</td>\n",
       "      <td>13320.0</td>\n",
       "      <td>8880.0</td>\n",
       "      <td>4440.0</td>\n",
       "      <td>06-01-2014</td>\n",
       "      <td>6</td>\n",
       "      <td>June</td>\n",
       "      <td>2014</td>\n",
       "    </tr>\n",
       "    <tr>\n",
       "      <th>4</th>\n",
       "      <td>Midmarket</td>\n",
       "      <td>Mexico</td>\n",
       "      <td>Carretera</td>\n",
       "      <td>2470.0</td>\n",
       "      <td>3</td>\n",
       "      <td>15</td>\n",
       "      <td>37050.0</td>\n",
       "      <td>37050.0</td>\n",
       "      <td>24700.0</td>\n",
       "      <td>12350.0</td>\n",
       "      <td>06-01-2014</td>\n",
       "      <td>6</td>\n",
       "      <td>June</td>\n",
       "      <td>2014</td>\n",
       "    </tr>\n",
       "  </tbody>\n",
       "</table>\n",
       "</div>"
      ],
      "text/plain": [
       "      Segment  Country     Product    Units Sold    Manufacturing Price   \\\n",
       "0  Government   Canada   Carretera         1618.5                      3   \n",
       "1  Government  Germany   Carretera         1321.0                      3   \n",
       "2   Midmarket   France   Carretera         2178.0                      3   \n",
       "3   Midmarket  Germany   Carretera          888.0                      3   \n",
       "4   Midmarket   Mexico   Carretera         2470.0                      3   \n",
       "\n",
       "    Sale Price    Gross Sales     Sales     COGS    Profit         Date  \\\n",
       "0            20        32370.0   32370.0  16185.0   16185.0  01-01-2014   \n",
       "1            20        26420.0   26420.0  13210.0   13210.0  01-01-2014   \n",
       "2            15        32670.0   32670.0  21780.0   10890.0  06-01-2014   \n",
       "3            15        13320.0   13320.0   8880.0    4440.0  06-01-2014   \n",
       "4            15        37050.0   37050.0  24700.0   12350.0  06-01-2014   \n",
       "\n",
       "   Month Number  Month Name   Year  \n",
       "0             1     January   2014  \n",
       "1             1     January   2014  \n",
       "2             6        June   2014  \n",
       "3             6        June   2014  \n",
       "4             6        June   2014  "
      ]
     },
     "execution_count": 43,
     "metadata": {},
     "output_type": "execute_result"
    }
   ],
   "source": [
    "df.head()"
   ]
  },
  {
   "cell_type": "code",
   "execution_count": 44,
   "id": "baa978d7-b429-4552-a2a3-6b6732e99d82",
   "metadata": {},
   "outputs": [],
   "source": [
    "df.columns = df.columns.str.strip()"
   ]
  },
  {
   "cell_type": "markdown",
   "id": "1b4fe2a2",
   "metadata": {},
   "source": [
    "### 📌 Question 1: What is the total sales amount?"
   ]
  },
  {
   "cell_type": "code",
   "execution_count": 46,
   "id": "5b8782e4",
   "metadata": {},
   "outputs": [
    {
     "name": "stdout",
     "output_type": "stream",
     "text": [
      "Total Sales: 118.73 M\n"
     ]
    }
   ],
   "source": [
    "total_sales = df['Sales'].sum()\n",
    "print(\"Total Sales:\", round(total_sales / 1_000_000, 2), \"M\")"
   ]
  },
  {
   "cell_type": "markdown",
   "id": "ee661be3",
   "metadata": {},
   "source": [
    "### 📌 Question 2: What is the total number of units sold?"
   ]
  },
  {
   "cell_type": "code",
   "execution_count": 49,
   "id": "68f80661",
   "metadata": {},
   "outputs": [
    {
     "name": "stdout",
     "output_type": "stream",
     "text": [
      "Total Units Sold: 1.13 M\n"
     ]
    }
   ],
   "source": [
    "total_units = df['Units Sold'].sum()\n",
    "print(\"Total Units Sold:\", round(total_units / 1_000_000, 2), \"M\")"
   ]
  },
  {
   "cell_type": "markdown",
   "id": "e26ef784",
   "metadata": {},
   "source": [
    "### 📌 Question 3: What is the total gross sales?"
   ]
  },
  {
   "cell_type": "code",
   "execution_count": 51,
   "id": "f2fbd713-5448-45c9-9197-482d1e3817c6",
   "metadata": {},
   "outputs": [
    {
     "name": "stdout",
     "output_type": "stream",
     "text": [
      "Total Gross Sales: 127.93 M\n"
     ]
    }
   ],
   "source": [
    "total_gross_sales = df['Gross Sales'].sum()\n",
    "print(\"Total Gross Sales:\", round(total_gross_sales / 1_000_000, 2), \"M\")"
   ]
  },
  {
   "cell_type": "markdown",
   "id": "2817250d-4b31-4582-8de6-f7bf4da35a74",
   "metadata": {},
   "source": [
    "### 📌 Question 4: What is the total COGS?"
   ]
  },
  {
   "cell_type": "code",
   "execution_count": 53,
   "id": "ffd4b3a3",
   "metadata": {},
   "outputs": [
    {
     "name": "stdout",
     "output_type": "stream",
     "text": [
      "Total COGS: 101.83 M\n"
     ]
    }
   ],
   "source": [
    "total_cogs = df['COGS'].sum()\n",
    "print(\"Total COGS:\", round(total_cogs / 1_000_000, 2), \"M\")"
   ]
  },
  {
   "cell_type": "markdown",
   "id": "2479a08d",
   "metadata": {},
   "source": [
    "### 📌 Question 5: What are the quarterly total sales trends?"
   ]
  },
  {
   "cell_type": "code",
   "execution_count": 55,
   "id": "36736580",
   "metadata": {},
   "outputs": [
    {
     "name": "stdout",
     "output_type": "stream",
     "text": [
      "Quarterly Sales:\n",
      "  Quarter        Sales\n",
      "0  2013Q3   4484000.03\n",
      "1  2013Q4  21931255.48\n",
      "2  2014Q1  19492152.95\n",
      "3  2014Q2  22693879.95\n",
      "4  2014Q3  20366239.84\n",
      "5  2014Q4  29758822.02\n"
     ]
    }
   ],
   "source": [
    "df['Date'] = pd.to_datetime(df['Date'])\n",
    "df['Quarter'] = df['Date'].dt.to_period(\"Q\")\n",
    "quarterly_sales = df.groupby('Quarter')['Sales'].sum().reset_index()\n",
    "print(\"Quarterly Sales:\")\n",
    "print(quarterly_sales)"
   ]
  },
  {
   "cell_type": "markdown",
   "id": "7de90b2a",
   "metadata": {},
   "source": [
    "### 📌 Question 6: Which product has the highest and lowest sales?"
   ]
  },
  {
   "cell_type": "code",
   "execution_count": 57,
   "id": "2fe3617d",
   "metadata": {},
   "outputs": [
    {
     "name": "stdout",
     "output_type": "stream",
     "text": [
      "Most Liked Product:  Paseo \n",
      "Least Liked Product:  Carretera \n"
     ]
    }
   ],
   "source": [
    "product_sales = df.groupby('Product')['Sales'].sum().sort_values(ascending=False)\n",
    "most_liked_product = product_sales.idxmax()\n",
    "least_liked_product = product_sales.idxmin()\n",
    "print(\"Most Liked Product:\", most_liked_product)\n",
    "print(\"Least Liked Product:\", least_liked_product)"
   ]
  },
  {
   "cell_type": "markdown",
   "id": "d2c984ea",
   "metadata": {},
   "source": [
    "### 📌 Question 7: What is the gross sales distribution by country?"
   ]
  },
  {
   "cell_type": "code",
   "execution_count": 59,
   "id": "447bfafd",
   "metadata": {},
   "outputs": [
    {
     "name": "stdout",
     "output_type": "stream",
     "text": [
      "Gross Sales by Country:\n",
      "Country\n",
      "United States of America    27269358.0\n",
      "Canada                      26932163.5\n",
      "France                      26081674.5\n",
      "Germany                     24921467.5\n",
      "Mexico                      22726935.0\n",
      "Name: Gross Sales, dtype: float64\n"
     ]
    }
   ],
   "source": [
    "country_sales = df.groupby('Country')['Gross Sales'].sum().sort_values(ascending=False)\n",
    "print(\"Gross Sales by Country:\")\n",
    "print(country_sales)"
   ]
  },
  {
   "cell_type": "markdown",
   "id": "ed7a8a30",
   "metadata": {},
   "source": [
    "### 📌 Question 8: Which customer segment has the highest total sales?"
   ]
  },
  {
   "cell_type": "code",
   "execution_count": 61,
   "id": "72f5340d",
   "metadata": {},
   "outputs": [
    {
     "name": "stdout",
     "output_type": "stream",
     "text": [
      "Sales by Segment:\n",
      "Segment\n",
      "Government          52504260.67\n",
      "Small Business      42427918.50\n",
      "Enterprise          19611694.38\n",
      "Midmarket            2381883.08\n",
      "Channel Partners     1800593.64\n",
      "Name: Sales, dtype: float64\n",
      "Top Segment: Government\n"
     ]
    }
   ],
   "source": [
    "segment_sales = df.groupby('Segment')['Sales'].sum().sort_values(ascending=False)\n",
    "print(\"Sales by Segment:\")\n",
    "print(segment_sales)\n",
    "print(\"Top Segment:\", segment_sales.idxmax())"
   ]
  },
  {
   "cell_type": "code",
   "execution_count": null,
   "id": "7ecde02a-c2c6-4a0b-bb43-31db1ee40a04",
   "metadata": {},
   "outputs": [],
   "source": []
  }
 ],
 "metadata": {
  "kernelspec": {
   "display_name": "Python 3 (ipykernel)",
   "language": "python",
   "name": "python3"
  },
  "language_info": {
   "codemirror_mode": {
    "name": "ipython",
    "version": 3
   },
   "file_extension": ".py",
   "mimetype": "text/x-python",
   "name": "python",
   "nbconvert_exporter": "python",
   "pygments_lexer": "ipython3",
   "version": "3.12.7"
  }
 },
 "nbformat": 4,
 "nbformat_minor": 5
}
